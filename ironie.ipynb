{
  "nbformat": 4,
  "nbformat_minor": 0,
  "metadata": {
    "kernelspec": {
      "display_name": "Python 3",
      "language": "python",
      "name": "python3"
    },
    "language_info": {
      "codemirror_mode": {
        "name": "ipython",
        "version": 3
      },
      "file_extension": ".py",
      "mimetype": "text/x-python",
      "name": "python",
      "nbconvert_exporter": "python",
      "pygments_lexer": "ipython3",
      "version": "3.8.5"
    },
    "colab": {
      "name": "ironie.ipynb",
      "provenance": [],
      "collapsed_sections": [],
      "toc_visible": true,
      "include_colab_link": true
    }
  },
  "cells": [
    {
      "cell_type": "markdown",
      "metadata": {
        "id": "view-in-github",
        "colab_type": "text"
      },
      "source": [
        "<a href=\"https://colab.research.google.com/github/RMeuter/NLPHumourProjet/blob/ironie/ironie.ipynb\" target=\"_parent\"><img src=\"https://colab.research.google.com/assets/colab-badge.svg\" alt=\"Open In Colab\"/></a>"
      ]
    },
    {
      "cell_type": "markdown",
      "metadata": {
        "id": "NzTQQXuMrbXH"
      },
      "source": [
        "# IMPORTS AND GLOBAL VARIABLES"
      ]
    },
    {
      "cell_type": "code",
      "metadata": {
        "colab": {
          "base_uri": "https://localhost:8080/"
        },
        "id": "E-uoXuQrmHXI",
        "outputId": "db2a2ff7-d7f3-4481-bb1a-c4db7db25480"
      },
      "source": [
        "!pip3 install langdetect\n",
        "!pip3 install stanza\n",
        "\n",
        "import pandas as pd\n",
        "import numpy as np\n",
        "import matplotlib.pyplot as plt\n",
        "import stanza\n",
        "from langdetect import *\n",
        "\n",
        "FILENAME = \"/content/drive/MyDrive/COLAB_STUFF/SMS/88milSMS_88522.csv\""
      ],
      "execution_count": 1,
      "outputs": [
        {
          "output_type": "stream",
          "text": [
            "Requirement already satisfied: langdetect in /usr/local/lib/python3.7/dist-packages (1.0.8)\n",
            "Requirement already satisfied: six in /usr/local/lib/python3.7/dist-packages (from langdetect) (1.15.0)\n",
            "Requirement already satisfied: stanza in /usr/local/lib/python3.7/dist-packages (1.2)\n",
            "Requirement already satisfied: numpy in /usr/local/lib/python3.7/dist-packages (from stanza) (1.19.5)\n",
            "Requirement already satisfied: protobuf in /usr/local/lib/python3.7/dist-packages (from stanza) (3.12.4)\n",
            "Requirement already satisfied: torch>=1.3.0 in /usr/local/lib/python3.7/dist-packages (from stanza) (1.7.0+cu101)\n",
            "Requirement already satisfied: requests in /usr/local/lib/python3.7/dist-packages (from stanza) (2.23.0)\n",
            "Requirement already satisfied: tqdm in /usr/local/lib/python3.7/dist-packages (from stanza) (4.41.1)\n",
            "Requirement already satisfied: setuptools in /usr/local/lib/python3.7/dist-packages (from protobuf->stanza) (53.0.0)\n",
            "Requirement already satisfied: six>=1.9 in /usr/local/lib/python3.7/dist-packages (from protobuf->stanza) (1.15.0)\n",
            "Requirement already satisfied: typing-extensions in /usr/local/lib/python3.7/dist-packages (from torch>=1.3.0->stanza) (3.7.4.3)\n",
            "Requirement already satisfied: future in /usr/local/lib/python3.7/dist-packages (from torch>=1.3.0->stanza) (0.16.0)\n",
            "Requirement already satisfied: dataclasses in /usr/local/lib/python3.7/dist-packages (from torch>=1.3.0->stanza) (0.6)\n",
            "Requirement already satisfied: certifi>=2017.4.17 in /usr/local/lib/python3.7/dist-packages (from requests->stanza) (2020.12.5)\n",
            "Requirement already satisfied: idna<3,>=2.5 in /usr/local/lib/python3.7/dist-packages (from requests->stanza) (2.10)\n",
            "Requirement already satisfied: chardet<4,>=3.0.2 in /usr/local/lib/python3.7/dist-packages (from requests->stanza) (3.0.4)\n",
            "Requirement already satisfied: urllib3!=1.25.0,!=1.25.1,<1.26,>=1.21.1 in /usr/local/lib/python3.7/dist-packages (from requests->stanza) (1.24.3)\n"
          ],
          "name": "stdout"
        }
      ]
    },
    {
      "cell_type": "code",
      "metadata": {
        "collapsed": true,
        "colab": {
          "base_uri": "https://localhost:8080/"
        },
        "id": "xxvbOGocmHXP",
        "outputId": "0f805d16-9be2-4f79-e466-a93a3d951c94"
      },
      "source": [
        "stanza.download('fr') \n",
        "nlp = stanza.Pipeline('fr')"
      ],
      "execution_count": 2,
      "outputs": [
        {
          "output_type": "stream",
          "text": [
            "Downloading https://raw.githubusercontent.com/stanfordnlp/stanza-resources/master/resources_1.2.0.json: 128kB [00:00, 26.9MB/s]                    \n",
            "2021-02-24 15:56:01 INFO: Downloading default packages for language: fr (French)...\n",
            "2021-02-24 15:56:02 INFO: File exists: /root/stanza_resources/fr/default.zip.\n",
            "2021-02-24 15:56:09 INFO: Finished downloading models and saved to /root/stanza_resources.\n",
            "2021-02-24 15:56:09 INFO: Loading these models for language: fr (French):\n",
            "=======================\n",
            "| Processor | Package |\n",
            "-----------------------\n",
            "| tokenize  | gsd     |\n",
            "| mwt       | gsd     |\n",
            "| pos       | gsd     |\n",
            "| lemma     | gsd     |\n",
            "| depparse  | gsd     |\n",
            "| ner       | wikiner |\n",
            "=======================\n",
            "\n",
            "2021-02-24 15:56:09 INFO: Use device: cpu\n",
            "2021-02-24 15:56:09 INFO: Loading: tokenize\n",
            "2021-02-24 15:56:09 INFO: Loading: mwt\n",
            "2021-02-24 15:56:09 INFO: Loading: pos\n",
            "2021-02-24 15:56:09 INFO: Loading: lemma\n",
            "2021-02-24 15:56:09 INFO: Loading: depparse\n",
            "2021-02-24 15:56:10 INFO: Loading: ner\n",
            "2021-02-24 15:56:12 INFO: Done loading processors!\n"
          ],
          "name": "stderr"
        }
      ]
    },
    {
      "cell_type": "markdown",
      "metadata": {
        "id": "klIwRCOQriq0"
      },
      "source": [
        "# LOADING DATASET"
      ]
    },
    {
      "cell_type": "code",
      "metadata": {
        "colab": {
          "base_uri": "https://localhost:8080/"
        },
        "id": "baGMjA8nro5x",
        "outputId": "8a3eabcb-c0c6-4ef0-8a31-dec3ae0052f0"
      },
      "source": [
        "from google.colab import drive\n",
        "drive.mount('/content/drive')"
      ],
      "execution_count": 3,
      "outputs": [
        {
          "output_type": "stream",
          "text": [
            "Drive already mounted at /content/drive; to attempt to forcibly remount, call drive.mount(\"/content/drive\", force_remount=True).\n"
          ],
          "name": "stdout"
        }
      ]
    },
    {
      "cell_type": "code",
      "metadata": {
        "id": "bPq-R6gAmHXR"
      },
      "source": [
        "df = pd.read_csv(FILENAME)\n",
        "del df['Unnamed: 3']\n",
        "df = df.rename(columns ={\"SMS_ANON\": \"sms\"})"
      ],
      "execution_count": 39,
      "outputs": []
    },
    {
      "cell_type": "code",
      "metadata": {
        "colab": {
          "base_uri": "https://localhost:8080/",
          "height": 204
        },
        "id": "S6H5y9FHmHXR",
        "outputId": "d941420c-975c-41cb-d932-e5bcbf2370fd"
      },
      "source": [
        "df.head()"
      ],
      "execution_count": 40,
      "outputs": [
        {
          "output_type": "execute_result",
          "data": {
            "text/html": [
              "<div>\n",
              "<style scoped>\n",
              "    .dataframe tbody tr th:only-of-type {\n",
              "        vertical-align: middle;\n",
              "    }\n",
              "\n",
              "    .dataframe tbody tr th {\n",
              "        vertical-align: top;\n",
              "    }\n",
              "\n",
              "    .dataframe thead th {\n",
              "        text-align: right;\n",
              "    }\n",
              "</style>\n",
              "<table border=\"1\" class=\"dataframe\">\n",
              "  <thead>\n",
              "    <tr style=\"text-align: right;\">\n",
              "      <th></th>\n",
              "      <th>NUM_SMS</th>\n",
              "      <th>DATETIME</th>\n",
              "      <th>ID_NUM_TEL</th>\n",
              "      <th>sms</th>\n",
              "    </tr>\n",
              "  </thead>\n",
              "  <tbody>\n",
              "    <tr>\n",
              "      <th>0</th>\n",
              "      <td>1</td>\n",
              "      <td>15 sept. 2011 07:28:55</td>\n",
              "      <td>477</td>\n",
              "      <td>Hey ca va?\\nAlors cette rentree?\\nVa falloir s...</td>\n",
              "    </tr>\n",
              "    <tr>\n",
              "      <th>1</th>\n",
              "      <td>2</td>\n",
              "      <td>15 sept. 2011 08:02:08</td>\n",
              "      <td>477</td>\n",
              "      <td>Ok super merci! Oui j'y comprends rien du tout...</td>\n",
              "    </tr>\n",
              "    <tr>\n",
              "      <th>2</th>\n",
              "      <td>3</td>\n",
              "      <td>15 sept. 2011 08:03:01</td>\n",
              "      <td>477</td>\n",
              "      <td>Coucou !\\nC'est quand la feria de Nimes? \\nJ's...</td>\n",
              "    </tr>\n",
              "    <tr>\n",
              "      <th>3</th>\n",
              "      <td>4</td>\n",
              "      <td>15 sept. 2011 08:03:35</td>\n",
              "      <td>477</td>\n",
              "      <td>Coucou :)\\nOui ca c'est bien passe!\\nAlors je ...</td>\n",
              "    </tr>\n",
              "    <tr>\n",
              "      <th>4</th>\n",
              "      <td>5</td>\n",
              "      <td>15 sept. 2011 09:05:28</td>\n",
              "      <td>477</td>\n",
              "      <td>On peut se rejoindre quelque part? Tu as cours...</td>\n",
              "    </tr>\n",
              "  </tbody>\n",
              "</table>\n",
              "</div>"
            ],
            "text/plain": [
              "   NUM_SMS  ...                                                sms\n",
              "0        1  ...  Hey ca va?\\nAlors cette rentree?\\nVa falloir s...\n",
              "1        2  ...  Ok super merci! Oui j'y comprends rien du tout...\n",
              "2        3  ...  Coucou !\\nC'est quand la feria de Nimes? \\nJ's...\n",
              "3        4  ...  Coucou :)\\nOui ca c'est bien passe!\\nAlors je ...\n",
              "4        5  ...  On peut se rejoindre quelque part? Tu as cours...\n",
              "\n",
              "[5 rows x 4 columns]"
            ]
          },
          "metadata": {
            "tags": []
          },
          "execution_count": 40
        }
      ]
    },
    {
      "cell_type": "markdown",
      "metadata": {
        "id": "YsQLJulgmHXS"
      },
      "source": [
        "Certains sms sont écrit en anglais, il faut donc les supprimer du corpus pour pouvoir traiter les données."
      ]
    },
    {
      "cell_type": "code",
      "metadata": {
        "colab": {
          "base_uri": "https://localhost:8080/",
          "height": 282
        },
        "id": "wuRI8c6wmHXS",
        "outputId": "64cff77d-371c-4ffc-bc26-06b2c0cbb6cb"
      },
      "source": [
        "detect(df.SMS[0])"
      ],
      "execution_count": 41,
      "outputs": [
        {
          "output_type": "error",
          "ename": "AttributeError",
          "evalue": "ignored",
          "traceback": [
            "\u001b[0;31m---------------------------------------------------------------------------\u001b[0m",
            "\u001b[0;31mAttributeError\u001b[0m                            Traceback (most recent call last)",
            "\u001b[0;32m<ipython-input-41-b484c4503921>\u001b[0m in \u001b[0;36m<module>\u001b[0;34m()\u001b[0m\n\u001b[0;32m----> 1\u001b[0;31m \u001b[0mdetect\u001b[0m\u001b[0;34m(\u001b[0m\u001b[0mdf\u001b[0m\u001b[0;34m.\u001b[0m\u001b[0mSMS\u001b[0m\u001b[0;34m[\u001b[0m\u001b[0;36m0\u001b[0m\u001b[0;34m]\u001b[0m\u001b[0;34m)\u001b[0m\u001b[0;34m\u001b[0m\u001b[0;34m\u001b[0m\u001b[0m\n\u001b[0m",
            "\u001b[0;32m/usr/local/lib/python3.7/dist-packages/pandas/core/generic.py\u001b[0m in \u001b[0;36m__getattr__\u001b[0;34m(self, name)\u001b[0m\n\u001b[1;32m   5139\u001b[0m             \u001b[0;32mif\u001b[0m \u001b[0mself\u001b[0m\u001b[0;34m.\u001b[0m\u001b[0m_info_axis\u001b[0m\u001b[0;34m.\u001b[0m\u001b[0m_can_hold_identifiers_and_holds_name\u001b[0m\u001b[0;34m(\u001b[0m\u001b[0mname\u001b[0m\u001b[0;34m)\u001b[0m\u001b[0;34m:\u001b[0m\u001b[0;34m\u001b[0m\u001b[0;34m\u001b[0m\u001b[0m\n\u001b[1;32m   5140\u001b[0m                 \u001b[0;32mreturn\u001b[0m \u001b[0mself\u001b[0m\u001b[0;34m[\u001b[0m\u001b[0mname\u001b[0m\u001b[0;34m]\u001b[0m\u001b[0;34m\u001b[0m\u001b[0;34m\u001b[0m\u001b[0m\n\u001b[0;32m-> 5141\u001b[0;31m             \u001b[0;32mreturn\u001b[0m \u001b[0mobject\u001b[0m\u001b[0;34m.\u001b[0m\u001b[0m__getattribute__\u001b[0m\u001b[0;34m(\u001b[0m\u001b[0mself\u001b[0m\u001b[0;34m,\u001b[0m \u001b[0mname\u001b[0m\u001b[0;34m)\u001b[0m\u001b[0;34m\u001b[0m\u001b[0;34m\u001b[0m\u001b[0m\n\u001b[0m\u001b[1;32m   5142\u001b[0m \u001b[0;34m\u001b[0m\u001b[0m\n\u001b[1;32m   5143\u001b[0m     \u001b[0;32mdef\u001b[0m \u001b[0m__setattr__\u001b[0m\u001b[0;34m(\u001b[0m\u001b[0mself\u001b[0m\u001b[0;34m,\u001b[0m \u001b[0mname\u001b[0m\u001b[0;34m:\u001b[0m \u001b[0mstr\u001b[0m\u001b[0;34m,\u001b[0m \u001b[0mvalue\u001b[0m\u001b[0;34m)\u001b[0m \u001b[0;34m->\u001b[0m \u001b[0;32mNone\u001b[0m\u001b[0;34m:\u001b[0m\u001b[0;34m\u001b[0m\u001b[0;34m\u001b[0m\u001b[0m\n",
            "\u001b[0;31mAttributeError\u001b[0m: 'DataFrame' object has no attribute 'SMS'"
          ]
        }
      ]
    },
    {
      "cell_type": "code",
      "metadata": {
        "colab": {
          "base_uri": "https://localhost:8080/",
          "height": 204
        },
        "id": "IcvZJ0kOmHXT",
        "outputId": "53e76eb4-0f99-40c0-c9fc-9b77498f833c"
      },
      "source": [
        "def detect_lang(text):\n",
        "    try:\n",
        "        return detect(text)\n",
        "    except:\n",
        "        return None\n",
        "\n",
        "df['langue'] = df[\"sms\"].apply(lambda x : detect_lang(x))\n",
        "df.head()"
      ],
      "execution_count": 42,
      "outputs": [
        {
          "output_type": "execute_result",
          "data": {
            "text/html": [
              "<div>\n",
              "<style scoped>\n",
              "    .dataframe tbody tr th:only-of-type {\n",
              "        vertical-align: middle;\n",
              "    }\n",
              "\n",
              "    .dataframe tbody tr th {\n",
              "        vertical-align: top;\n",
              "    }\n",
              "\n",
              "    .dataframe thead th {\n",
              "        text-align: right;\n",
              "    }\n",
              "</style>\n",
              "<table border=\"1\" class=\"dataframe\">\n",
              "  <thead>\n",
              "    <tr style=\"text-align: right;\">\n",
              "      <th></th>\n",
              "      <th>NUM_SMS</th>\n",
              "      <th>DATETIME</th>\n",
              "      <th>ID_NUM_TEL</th>\n",
              "      <th>sms</th>\n",
              "      <th>langue</th>\n",
              "    </tr>\n",
              "  </thead>\n",
              "  <tbody>\n",
              "    <tr>\n",
              "      <th>0</th>\n",
              "      <td>1</td>\n",
              "      <td>15 sept. 2011 07:28:55</td>\n",
              "      <td>477</td>\n",
              "      <td>Hey ca va?\\nAlors cette rentree?\\nVa falloir s...</td>\n",
              "      <td>fr</td>\n",
              "    </tr>\n",
              "    <tr>\n",
              "      <th>1</th>\n",
              "      <td>2</td>\n",
              "      <td>15 sept. 2011 08:02:08</td>\n",
              "      <td>477</td>\n",
              "      <td>Ok super merci! Oui j'y comprends rien du tout...</td>\n",
              "      <td>fr</td>\n",
              "    </tr>\n",
              "    <tr>\n",
              "      <th>2</th>\n",
              "      <td>3</td>\n",
              "      <td>15 sept. 2011 08:03:01</td>\n",
              "      <td>477</td>\n",
              "      <td>Coucou !\\nC'est quand la feria de Nimes? \\nJ's...</td>\n",
              "      <td>fr</td>\n",
              "    </tr>\n",
              "    <tr>\n",
              "      <th>3</th>\n",
              "      <td>4</td>\n",
              "      <td>15 sept. 2011 08:03:35</td>\n",
              "      <td>477</td>\n",
              "      <td>Coucou :)\\nOui ca c'est bien passe!\\nAlors je ...</td>\n",
              "      <td>fr</td>\n",
              "    </tr>\n",
              "    <tr>\n",
              "      <th>4</th>\n",
              "      <td>5</td>\n",
              "      <td>15 sept. 2011 09:05:28</td>\n",
              "      <td>477</td>\n",
              "      <td>On peut se rejoindre quelque part? Tu as cours...</td>\n",
              "      <td>fr</td>\n",
              "    </tr>\n",
              "  </tbody>\n",
              "</table>\n",
              "</div>"
            ],
            "text/plain": [
              "   NUM_SMS  ... langue\n",
              "0        1  ...     fr\n",
              "1        2  ...     fr\n",
              "2        3  ...     fr\n",
              "3        4  ...     fr\n",
              "4        5  ...     fr\n",
              "\n",
              "[5 rows x 5 columns]"
            ]
          },
          "metadata": {
            "tags": []
          },
          "execution_count": 42
        }
      ]
    },
    {
      "cell_type": "code",
      "metadata": {
        "colab": {
          "base_uri": "https://localhost:8080/"
        },
        "id": "YLmIM-oqmHXT",
        "outputId": "93cf4045-7282-43f7-ec9b-5c072ee645f0"
      },
      "source": [
        "df.isnull().sum()"
      ],
      "execution_count": 43,
      "outputs": [
        {
          "output_type": "execute_result",
          "data": {
            "text/plain": [
              "NUM_SMS         0\n",
              "DATETIME        0\n",
              "ID_NUM_TEL      0\n",
              "sms             1\n",
              "langue        410\n",
              "dtype: int64"
            ]
          },
          "metadata": {
            "tags": []
          },
          "execution_count": 43
        }
      ]
    },
    {
      "cell_type": "code",
      "metadata": {
        "scrolled": false,
        "colab": {
          "base_uri": "https://localhost:8080/",
          "height": 419
        },
        "id": "CsoIxxCcmHXU",
        "outputId": "a2a22d9a-26eb-4dd4-b4c6-5a5ca38e1997"
      },
      "source": [
        "df.loc[df['langue'] != 'fr']"
      ],
      "execution_count": 44,
      "outputs": [
        {
          "output_type": "execute_result",
          "data": {
            "text/html": [
              "<div>\n",
              "<style scoped>\n",
              "    .dataframe tbody tr th:only-of-type {\n",
              "        vertical-align: middle;\n",
              "    }\n",
              "\n",
              "    .dataframe tbody tr th {\n",
              "        vertical-align: top;\n",
              "    }\n",
              "\n",
              "    .dataframe thead th {\n",
              "        text-align: right;\n",
              "    }\n",
              "</style>\n",
              "<table border=\"1\" class=\"dataframe\">\n",
              "  <thead>\n",
              "    <tr style=\"text-align: right;\">\n",
              "      <th></th>\n",
              "      <th>NUM_SMS</th>\n",
              "      <th>DATETIME</th>\n",
              "      <th>ID_NUM_TEL</th>\n",
              "      <th>sms</th>\n",
              "      <th>langue</th>\n",
              "    </tr>\n",
              "  </thead>\n",
              "  <tbody>\n",
              "    <tr>\n",
              "      <th>27</th>\n",
              "      <td>28</td>\n",
              "      <td>15 sept. 2011 10:56:48</td>\n",
              "      <td>88</td>\n",
              "      <td>La j'ai fini je regarde le film</td>\n",
              "      <td>sl</td>\n",
              "    </tr>\n",
              "    <tr>\n",
              "      <th>32</th>\n",
              "      <td>33</td>\n",
              "      <td>15 sept. 2011 10:59:17</td>\n",
              "      <td>136</td>\n",
              "      <td>&lt;TEL_10&gt; texto &lt;PRE_6&gt; vite vite pour le casti...</td>\n",
              "      <td>en</td>\n",
              "    </tr>\n",
              "    <tr>\n",
              "      <th>38</th>\n",
              "      <td>39</td>\n",
              "      <td>15 sept. 2011 11:01:29</td>\n",
              "      <td>353</td>\n",
              "      <td>Coucou! ça va? Balade vers 5h?</td>\n",
              "      <td>ca</td>\n",
              "    </tr>\n",
              "    <tr>\n",
              "      <th>44</th>\n",
              "      <td>45</td>\n",
              "      <td>15 sept. 2011 11:03:40</td>\n",
              "      <td>136</td>\n",
              "      <td>Ok ca marche, il va avoir quel age ? :)</td>\n",
              "      <td>it</td>\n",
              "    </tr>\n",
              "    <tr>\n",
              "      <th>50</th>\n",
              "      <td>51</td>\n",
              "      <td>15 sept. 2011 12:04:16</td>\n",
              "      <td>254</td>\n",
              "      <td>Je t'aiiiime...</td>\n",
              "      <td>et</td>\n",
              "    </tr>\n",
              "    <tr>\n",
              "      <th>...</th>\n",
              "      <td>...</td>\n",
              "      <td>...</td>\n",
              "      <td>...</td>\n",
              "      <td>...</td>\n",
              "      <td>...</td>\n",
              "    </tr>\n",
              "    <tr>\n",
              "      <th>88503</th>\n",
              "      <td>93064</td>\n",
              "      <td>15 déc. 2011 23:11:00</td>\n",
              "      <td>508</td>\n",
              "      <td>Moi je dors lol</td>\n",
              "      <td>sl</td>\n",
              "    </tr>\n",
              "    <tr>\n",
              "      <th>88506</th>\n",
              "      <td>93067</td>\n",
              "      <td>15 déc. 2011 23:14:13</td>\n",
              "      <td>508</td>\n",
              "      <td>Merci good night ^^</td>\n",
              "      <td>cy</td>\n",
              "    </tr>\n",
              "    <tr>\n",
              "      <th>88512</th>\n",
              "      <td>93074</td>\n",
              "      <td>15 déc. 2011 23:20:44</td>\n",
              "      <td>194</td>\n",
              "      <td>Reveil!!!!</td>\n",
              "      <td>no</td>\n",
              "    </tr>\n",
              "    <tr>\n",
              "      <th>88515</th>\n",
              "      <td>93078</td>\n",
              "      <td>15 déc. 2011 23:22:40</td>\n",
              "      <td>194</td>\n",
              "      <td>О ватаяъ sa gere dercire en russe:-P</td>\n",
              "      <td>no</td>\n",
              "    </tr>\n",
              "    <tr>\n",
              "      <th>88520</th>\n",
              "      <td>93084</td>\n",
              "      <td>15 déc. 2011 23:42:06</td>\n",
              "      <td>442</td>\n",
              "      <td>Pour demain soir je ferai un rizotto biz</td>\n",
              "      <td>it</td>\n",
              "    </tr>\n",
              "  </tbody>\n",
              "</table>\n",
              "<p>19497 rows × 5 columns</p>\n",
              "</div>"
            ],
            "text/plain": [
              "       NUM_SMS  ... langue\n",
              "27          28  ...     sl\n",
              "32          33  ...     en\n",
              "38          39  ...     ca\n",
              "44          45  ...     it\n",
              "50          51  ...     et\n",
              "...        ...  ...    ...\n",
              "88503    93064  ...     sl\n",
              "88506    93067  ...     cy\n",
              "88512    93074  ...     no\n",
              "88515    93078  ...     no\n",
              "88520    93084  ...     it\n",
              "\n",
              "[19497 rows x 5 columns]"
            ]
          },
          "metadata": {
            "tags": []
          },
          "execution_count": 44
        }
      ]
    },
    {
      "cell_type": "markdown",
      "metadata": {
        "id": "vIQXjpvumHXU"
      },
      "source": [
        "On remarque que beaucoups de texte fr sont annotés en tant que langue différente.\n",
        "Dans le cadre d'améliorer les résultats des qu'un bout de texte est détecté en Fr alors le texte est annoté FR "
      ]
    },
    {
      "cell_type": "code",
      "metadata": {
        "colab": {
          "base_uri": "https://localhost:8080/"
        },
        "id": "6YTl6BETmHXV",
        "outputId": "c6c793d0-b17e-4b63-bf2c-0cc354202916"
      },
      "source": [
        "detect_langs(df.loc[23,'sms'])"
      ],
      "execution_count": 45,
      "outputs": [
        {
          "output_type": "execute_result",
          "data": {
            "text/plain": [
              "[fr:0.7142830902760495, it:0.1428581608129409, ca:0.14285754376453824]"
            ]
          },
          "metadata": {
            "tags": []
          },
          "execution_count": 45
        }
      ]
    },
    {
      "cell_type": "code",
      "metadata": {
        "colab": {
          "base_uri": "https://localhost:8080/"
        },
        "id": "2R-RTcIpmHXV",
        "outputId": "85251bc4-e9e7-45ff-918e-b99051897c67"
      },
      "source": [
        "for n in range(len(detect_langs(df.loc[23,'sms']))):\n",
        "    print(detect_langs(df.loc[23,'sms'])[n].lang)\n",
        "#detect_langs(df.loc[23,'sms'])[0].lang"
      ],
      "execution_count": 46,
      "outputs": [
        {
          "output_type": "stream",
          "text": [
            "fr\n",
            "it\n",
            "hr\n",
            "hr\n"
          ],
          "name": "stdout"
        }
      ]
    },
    {
      "cell_type": "code",
      "metadata": {
        "id": "-uWCAABhmHXV"
      },
      "source": [
        "def liste_langue(langs):\n",
        "    l = []\n",
        "    for n in catch_detectlangs(langs):\n",
        "        l.append(n.lang)\n",
        "    return l"
      ],
      "execution_count": 47,
      "outputs": []
    },
    {
      "cell_type": "code",
      "metadata": {
        "colab": {
          "base_uri": "https://localhost:8080/"
        },
        "id": "yyR4hmOTmHXW",
        "outputId": "131f02ea-7efe-43ea-9eda-b05ce2ea02ba"
      },
      "source": [
        "liste_langue(df.loc[23,'sms'])"
      ],
      "execution_count": 48,
      "outputs": [
        {
          "output_type": "execute_result",
          "data": {
            "text/plain": [
              "['fr', 'lt', 'ca', 'hr', 'it']"
            ]
          },
          "metadata": {
            "tags": []
          },
          "execution_count": 48
        }
      ]
    },
    {
      "cell_type": "code",
      "metadata": {
        "colab": {
          "base_uri": "https://localhost:8080/"
        },
        "id": "9OFdhGRrmHXW",
        "outputId": "80844c21-eda3-4201-bd4a-eecd102837da"
      },
      "source": [
        "'fr' in liste_langue(df.loc[23,'sms'])"
      ],
      "execution_count": 49,
      "outputs": [
        {
          "output_type": "execute_result",
          "data": {
            "text/plain": [
              "True"
            ]
          },
          "metadata": {
            "tags": []
          },
          "execution_count": 49
        }
      ]
    },
    {
      "cell_type": "code",
      "metadata": {
        "scrolled": true,
        "colab": {
          "base_uri": "https://localhost:8080/",
          "height": 306
        },
        "id": "ZfrnAi46mHXW",
        "outputId": "5ca0a47e-fb7f-462c-aca3-614160f8a6cd"
      },
      "source": [
        "detect_langs(df.loc[99,'sms'])"
      ],
      "execution_count": 50,
      "outputs": [
        {
          "output_type": "error",
          "ename": "LangDetectException",
          "evalue": "ignored",
          "traceback": [
            "\u001b[0;31m---------------------------------------------------------------------------\u001b[0m",
            "\u001b[0;31mLangDetectException\u001b[0m                       Traceback (most recent call last)",
            "\u001b[0;32m<ipython-input-50-784fd517e38d>\u001b[0m in \u001b[0;36m<module>\u001b[0;34m()\u001b[0m\n\u001b[0;32m----> 1\u001b[0;31m \u001b[0mdetect_langs\u001b[0m\u001b[0;34m(\u001b[0m\u001b[0mdf\u001b[0m\u001b[0;34m.\u001b[0m\u001b[0mloc\u001b[0m\u001b[0;34m[\u001b[0m\u001b[0;36m99\u001b[0m\u001b[0;34m,\u001b[0m\u001b[0;34m'sms'\u001b[0m\u001b[0;34m]\u001b[0m\u001b[0;34m)\u001b[0m\u001b[0;34m\u001b[0m\u001b[0;34m\u001b[0m\u001b[0m\n\u001b[0m",
            "\u001b[0;32m/usr/local/lib/python3.7/dist-packages/langdetect/detector_factory.py\u001b[0m in \u001b[0;36mdetect_langs\u001b[0;34m(text)\u001b[0m\n\u001b[1;32m    135\u001b[0m     \u001b[0mdetector\u001b[0m \u001b[0;34m=\u001b[0m \u001b[0m_factory\u001b[0m\u001b[0;34m.\u001b[0m\u001b[0mcreate\u001b[0m\u001b[0;34m(\u001b[0m\u001b[0;34m)\u001b[0m\u001b[0;34m\u001b[0m\u001b[0;34m\u001b[0m\u001b[0m\n\u001b[1;32m    136\u001b[0m     \u001b[0mdetector\u001b[0m\u001b[0;34m.\u001b[0m\u001b[0mappend\u001b[0m\u001b[0;34m(\u001b[0m\u001b[0mtext\u001b[0m\u001b[0;34m)\u001b[0m\u001b[0;34m\u001b[0m\u001b[0;34m\u001b[0m\u001b[0m\n\u001b[0;32m--> 137\u001b[0;31m     \u001b[0;32mreturn\u001b[0m \u001b[0mdetector\u001b[0m\u001b[0;34m.\u001b[0m\u001b[0mget_probabilities\u001b[0m\u001b[0;34m(\u001b[0m\u001b[0;34m)\u001b[0m\u001b[0;34m\u001b[0m\u001b[0;34m\u001b[0m\u001b[0m\n\u001b[0m",
            "\u001b[0;32m/usr/local/lib/python3.7/dist-packages/langdetect/detector.py\u001b[0m in \u001b[0;36mget_probabilities\u001b[0;34m(self)\u001b[0m\n\u001b[1;32m    141\u001b[0m     \u001b[0;32mdef\u001b[0m \u001b[0mget_probabilities\u001b[0m\u001b[0;34m(\u001b[0m\u001b[0mself\u001b[0m\u001b[0;34m)\u001b[0m\u001b[0;34m:\u001b[0m\u001b[0;34m\u001b[0m\u001b[0;34m\u001b[0m\u001b[0m\n\u001b[1;32m    142\u001b[0m         \u001b[0;32mif\u001b[0m \u001b[0mself\u001b[0m\u001b[0;34m.\u001b[0m\u001b[0mlangprob\u001b[0m \u001b[0;32mis\u001b[0m \u001b[0;32mNone\u001b[0m\u001b[0;34m:\u001b[0m\u001b[0;34m\u001b[0m\u001b[0;34m\u001b[0m\u001b[0m\n\u001b[0;32m--> 143\u001b[0;31m             \u001b[0mself\u001b[0m\u001b[0;34m.\u001b[0m\u001b[0m_detect_block\u001b[0m\u001b[0;34m(\u001b[0m\u001b[0;34m)\u001b[0m\u001b[0;34m\u001b[0m\u001b[0;34m\u001b[0m\u001b[0m\n\u001b[0m\u001b[1;32m    144\u001b[0m         \u001b[0;32mreturn\u001b[0m \u001b[0mself\u001b[0m\u001b[0;34m.\u001b[0m\u001b[0m_sort_probability\u001b[0m\u001b[0;34m(\u001b[0m\u001b[0mself\u001b[0m\u001b[0;34m.\u001b[0m\u001b[0mlangprob\u001b[0m\u001b[0;34m)\u001b[0m\u001b[0;34m\u001b[0m\u001b[0;34m\u001b[0m\u001b[0m\n\u001b[1;32m    145\u001b[0m \u001b[0;34m\u001b[0m\u001b[0m\n",
            "\u001b[0;32m/usr/local/lib/python3.7/dist-packages/langdetect/detector.py\u001b[0m in \u001b[0;36m_detect_block\u001b[0;34m(self)\u001b[0m\n\u001b[1;32m    148\u001b[0m         \u001b[0mngrams\u001b[0m \u001b[0;34m=\u001b[0m \u001b[0mself\u001b[0m\u001b[0;34m.\u001b[0m\u001b[0m_extract_ngrams\u001b[0m\u001b[0;34m(\u001b[0m\u001b[0;34m)\u001b[0m\u001b[0;34m\u001b[0m\u001b[0;34m\u001b[0m\u001b[0m\n\u001b[1;32m    149\u001b[0m         \u001b[0;32mif\u001b[0m \u001b[0;32mnot\u001b[0m \u001b[0mngrams\u001b[0m\u001b[0;34m:\u001b[0m\u001b[0;34m\u001b[0m\u001b[0;34m\u001b[0m\u001b[0m\n\u001b[0;32m--> 150\u001b[0;31m             \u001b[0;32mraise\u001b[0m \u001b[0mLangDetectException\u001b[0m\u001b[0;34m(\u001b[0m\u001b[0mErrorCode\u001b[0m\u001b[0;34m.\u001b[0m\u001b[0mCantDetectError\u001b[0m\u001b[0;34m,\u001b[0m \u001b[0;34m'No features in text.'\u001b[0m\u001b[0;34m)\u001b[0m\u001b[0;34m\u001b[0m\u001b[0;34m\u001b[0m\u001b[0m\n\u001b[0m\u001b[1;32m    151\u001b[0m \u001b[0;34m\u001b[0m\u001b[0m\n\u001b[1;32m    152\u001b[0m         \u001b[0mself\u001b[0m\u001b[0;34m.\u001b[0m\u001b[0mlangprob\u001b[0m \u001b[0;34m=\u001b[0m \u001b[0;34m[\u001b[0m\u001b[0;36m0.0\u001b[0m\u001b[0;34m]\u001b[0m \u001b[0;34m*\u001b[0m \u001b[0mlen\u001b[0m\u001b[0;34m(\u001b[0m\u001b[0mself\u001b[0m\u001b[0;34m.\u001b[0m\u001b[0mlanglist\u001b[0m\u001b[0;34m)\u001b[0m\u001b[0;34m\u001b[0m\u001b[0;34m\u001b[0m\u001b[0m\n",
            "\u001b[0;31mLangDetectException\u001b[0m: No features in text."
          ]
        }
      ]
    },
    {
      "cell_type": "code",
      "metadata": {
        "id": "lxTusri-mHXX"
      },
      "source": [
        "def catch_detectlangs(texte):\n",
        "    try:\n",
        "        l = detect_langs(texte)\n",
        "    except:\n",
        "        l = []\n",
        "        \n",
        "    return l"
      ],
      "execution_count": 51,
      "outputs": []
    },
    {
      "cell_type": "code",
      "metadata": {
        "colab": {
          "base_uri": "https://localhost:8080/"
        },
        "id": "AFbu6v63mHXX",
        "outputId": "80c172fb-3460-41e2-f1cb-4fb2d0c63146"
      },
      "source": [
        "catch_detectlangs(df.loc[100,'sms'])"
      ],
      "execution_count": 52,
      "outputs": [
        {
          "output_type": "execute_result",
          "data": {
            "text/plain": [
              "[fr:0.8571393516191088, en:0.14285591306338885]"
            ]
          },
          "metadata": {
            "tags": []
          },
          "execution_count": 52
        }
      ]
    },
    {
      "cell_type": "code",
      "metadata": {
        "colab": {
          "base_uri": "https://localhost:8080/"
        },
        "id": "6cHXKoylmHXX",
        "outputId": "8ff6d2eb-b36d-4374-c2c2-ce9616496c44"
      },
      "source": [
        "'fr' in liste_langue(df.loc[1,'sms'])"
      ],
      "execution_count": 53,
      "outputs": [
        {
          "output_type": "execute_result",
          "data": {
            "text/plain": [
              "True"
            ]
          },
          "metadata": {
            "tags": []
          },
          "execution_count": 53
        }
      ]
    },
    {
      "cell_type": "code",
      "metadata": {
        "id": "RVG1AP_ymHXX"
      },
      "source": [
        "for i in range(len(df)):\n",
        "    if('fr' in liste_langue(df.loc[i,'sms'])):\n",
        "       df.loc[i,'langue'] = 'fr'\n",
        "    else:\n",
        "        try:\n",
        "            df.loc[i,'langue'] = detect(df.loc[i,'sms'])\n",
        "        except:\n",
        "            df.loc[i,'langue'] = None"
      ],
      "execution_count": null,
      "outputs": []
    },
    {
      "cell_type": "code",
      "metadata": {
        "id": "PhcUGCsvmHXY"
      },
      "source": [
        "df.loc[df['langue'] != 'fr'].head()"
      ],
      "execution_count": null,
      "outputs": []
    },
    {
      "cell_type": "code",
      "metadata": {
        "id": "VQiYhigimHXY"
      },
      "source": [
        "df.loc[125,:]"
      ],
      "execution_count": null,
      "outputs": []
    },
    {
      "cell_type": "code",
      "metadata": {
        "id": "DyqEznYP8c3T"
      },
      "source": [
        ""
      ],
      "execution_count": null,
      "outputs": []
    }
  ]
}