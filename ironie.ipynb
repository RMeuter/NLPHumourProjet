{
  "nbformat": 4,
  "nbformat_minor": 0,
  "metadata": {
    "kernelspec": {
      "display_name": "Python 3",
      "language": "python",
      "name": "python3"
    },
    "language_info": {
      "codemirror_mode": {
        "name": "ipython",
        "version": 3
      },
      "file_extension": ".py",
      "mimetype": "text/x-python",
      "name": "python",
      "nbconvert_exporter": "python",
      "pygments_lexer": "ipython3",
      "version": "3.8.5"
    },
    "colab": {
      "name": "ironie.ipynb",
      "provenance": [],
      "include_colab_link": true
    }
  },
  "cells": [
    {
      "cell_type": "markdown",
      "metadata": {
        "id": "view-in-github",
        "colab_type": "text"
      },
      "source": [
        "<a href=\"https://colab.research.google.com/github/RMeuter/NLPHumourProjet/blob/ironie/ironie.ipynb\" target=\"_parent\"><img src=\"https://colab.research.google.com/assets/colab-badge.svg\" alt=\"Open In Colab\"/></a>"
      ]
    },
    {
      "cell_type": "code",
      "metadata": {
        "colab": {
          "base_uri": "https://localhost:8080/",
          "height": 333
        },
        "id": "E-uoXuQrmHXI",
        "outputId": "54add33d-ad15-4b6c-bd99-82730797f52f"
      },
      "source": [
        "import pandas as pd\n",
        "import numpy as np\n",
        "import matplotlib.pyplot as plt\n",
        "from langdetect import *"
      ],
      "execution_count": 1,
      "outputs": [
        {
          "output_type": "error",
          "ename": "ModuleNotFoundError",
          "evalue": "ignored",
          "traceback": [
            "\u001b[0;31m---------------------------------------------------------------------------\u001b[0m",
            "\u001b[0;31mModuleNotFoundError\u001b[0m                       Traceback (most recent call last)",
            "\u001b[0;32m<ipython-input-1-8d52a1565aff>\u001b[0m in \u001b[0;36m<module>\u001b[0;34m()\u001b[0m\n\u001b[1;32m      2\u001b[0m \u001b[0;32mimport\u001b[0m \u001b[0mnumpy\u001b[0m \u001b[0;32mas\u001b[0m \u001b[0mnp\u001b[0m\u001b[0;34m\u001b[0m\u001b[0;34m\u001b[0m\u001b[0m\n\u001b[1;32m      3\u001b[0m \u001b[0;32mimport\u001b[0m \u001b[0mmatplotlib\u001b[0m\u001b[0;34m.\u001b[0m\u001b[0mpyplot\u001b[0m \u001b[0;32mas\u001b[0m \u001b[0mplt\u001b[0m\u001b[0;34m\u001b[0m\u001b[0;34m\u001b[0m\u001b[0m\n\u001b[0;32m----> 4\u001b[0;31m \u001b[0;32mfrom\u001b[0m \u001b[0mlangdetect\u001b[0m \u001b[0;32mimport\u001b[0m \u001b[0;34m*\u001b[0m\u001b[0;34m\u001b[0m\u001b[0;34m\u001b[0m\u001b[0m\n\u001b[0m",
            "\u001b[0;31mModuleNotFoundError\u001b[0m: No module named 'langdetect'",
            "",
            "\u001b[0;31m---------------------------------------------------------------------------\u001b[0;32m\nNOTE: If your import is failing due to a missing package, you can\nmanually install dependencies using either !pip or !apt.\n\nTo view examples of installing some common dependencies, click the\n\"Open Examples\" button below.\n\u001b[0;31m---------------------------------------------------------------------------\u001b[0m\n"
          ]
        }
      ]
    },
    {
      "cell_type": "code",
      "metadata": {
        "collapsed": true,
        "colab": {
          "base_uri": "https://localhost:8080/",
          "height": 333
        },
        "id": "xxvbOGocmHXP",
        "outputId": "094453cd-cb3f-4be0-d255-5e6cd7da4c69"
      },
      "source": [
        "import stanza\n",
        "stanza.download('fr') \n",
        "nlp = stanza.Pipeline('fr')"
      ],
      "execution_count": 2,
      "outputs": [
        {
          "output_type": "error",
          "ename": "ModuleNotFoundError",
          "evalue": "ignored",
          "traceback": [
            "\u001b[0;31m---------------------------------------------------------------------------\u001b[0m",
            "\u001b[0;31mModuleNotFoundError\u001b[0m                       Traceback (most recent call last)",
            "\u001b[0;32m<ipython-input-2-5996821cf9d7>\u001b[0m in \u001b[0;36m<module>\u001b[0;34m()\u001b[0m\n\u001b[0;32m----> 1\u001b[0;31m \u001b[0;32mimport\u001b[0m \u001b[0mstanza\u001b[0m\u001b[0;34m\u001b[0m\u001b[0;34m\u001b[0m\u001b[0m\n\u001b[0m\u001b[1;32m      2\u001b[0m \u001b[0mstanza\u001b[0m\u001b[0;34m.\u001b[0m\u001b[0mdownload\u001b[0m\u001b[0;34m(\u001b[0m\u001b[0;34m'fr'\u001b[0m\u001b[0;34m)\u001b[0m\u001b[0;34m\u001b[0m\u001b[0;34m\u001b[0m\u001b[0m\n\u001b[1;32m      3\u001b[0m \u001b[0mnlp\u001b[0m \u001b[0;34m=\u001b[0m \u001b[0mstanza\u001b[0m\u001b[0;34m.\u001b[0m\u001b[0mPipeline\u001b[0m\u001b[0;34m(\u001b[0m\u001b[0;34m'fr'\u001b[0m\u001b[0;34m)\u001b[0m\u001b[0;34m\u001b[0m\u001b[0;34m\u001b[0m\u001b[0m\n",
            "\u001b[0;31mModuleNotFoundError\u001b[0m: No module named 'stanza'",
            "",
            "\u001b[0;31m---------------------------------------------------------------------------\u001b[0;32m\nNOTE: If your import is failing due to a missing package, you can\nmanually install dependencies using either !pip or !apt.\n\nTo view examples of installing some common dependencies, click the\n\"Open Examples\" button below.\n\u001b[0;31m---------------------------------------------------------------------------\u001b[0m\n"
          ]
        }
      ]
    },
    {
      "cell_type": "code",
      "metadata": {
        "id": "bPq-R6gAmHXR"
      },
      "source": [
        "df = pd.read_csv('data_sms.csv')\n",
        "del df['Unnamed: 3']\n",
        "df = df.rename(columns ={\"SMS_ANON\": \"sms\"})"
      ],
      "execution_count": null,
      "outputs": []
    },
    {
      "cell_type": "code",
      "metadata": {
        "id": "S6H5y9FHmHXR"
      },
      "source": [
        "df.head()"
      ],
      "execution_count": null,
      "outputs": []
    },
    {
      "cell_type": "markdown",
      "metadata": {
        "id": "YsQLJulgmHXS"
      },
      "source": [
        "Certains sms sont écrit en anglais, il faut donc les supprimer du corpus pour pouvoir traiter les données."
      ]
    },
    {
      "cell_type": "code",
      "metadata": {
        "id": "wuRI8c6wmHXS"
      },
      "source": [
        "detect(df.sms[0])"
      ],
      "execution_count": null,
      "outputs": []
    },
    {
      "cell_type": "code",
      "metadata": {
        "id": "IcvZJ0kOmHXT"
      },
      "source": [
        "df['langue'] = None\n",
        "df.head()"
      ],
      "execution_count": null,
      "outputs": []
    },
    {
      "cell_type": "code",
      "metadata": {
        "id": "8CS7L0pomHXT"
      },
      "source": [
        "for i in range(len(df)):\n",
        "    try:\n",
        "        df.loc[i,'langue'] = detect(df.loc[i,'sms'])\n",
        "    except:\n",
        "        df.loc[i,'langue'] = None\n",
        "    \n",
        "df.head()"
      ],
      "execution_count": null,
      "outputs": []
    },
    {
      "cell_type": "code",
      "metadata": {
        "id": "YLmIM-oqmHXT"
      },
      "source": [
        "df.isnull().sum()"
      ],
      "execution_count": null,
      "outputs": []
    },
    {
      "cell_type": "code",
      "metadata": {
        "scrolled": false,
        "id": "CsoIxxCcmHXU"
      },
      "source": [
        "df.loc[df['langue'] != 'fr']"
      ],
      "execution_count": null,
      "outputs": []
    },
    {
      "cell_type": "markdown",
      "metadata": {
        "id": "vIQXjpvumHXU"
      },
      "source": [
        "On remarque que beaucoups de texte fr sont annotés en tant que langue différente.\n",
        "Dans le cadre d'améliorer les résultats des qu'un bout de texte est détecté en Fr alors le texte est annoté FR "
      ]
    },
    {
      "cell_type": "code",
      "metadata": {
        "id": "6YTl6BETmHXV"
      },
      "source": [
        "detect_langs(df.loc[23,'sms'])"
      ],
      "execution_count": null,
      "outputs": []
    },
    {
      "cell_type": "code",
      "metadata": {
        "id": "2R-RTcIpmHXV"
      },
      "source": [
        "for n in range(len(detect_langs(df.loc[23,'sms']))):\n",
        "    print(detect_langs(df.loc[23,'sms'])[n].lang)\n",
        "#detect_langs(df.loc[23,'sms'])[0].lang"
      ],
      "execution_count": null,
      "outputs": []
    },
    {
      "cell_type": "code",
      "metadata": {
        "id": "-uWCAABhmHXV"
      },
      "source": [
        "def liste_langue(langs):\n",
        "    l = []\n",
        "    for n in catch_detectlangs(langs):\n",
        "        l.append(n.lang)\n",
        "    return l"
      ],
      "execution_count": null,
      "outputs": []
    },
    {
      "cell_type": "code",
      "metadata": {
        "id": "yyR4hmOTmHXW"
      },
      "source": [
        "liste_langue(df.loc[23,'sms'])"
      ],
      "execution_count": null,
      "outputs": []
    },
    {
      "cell_type": "code",
      "metadata": {
        "id": "9OFdhGRrmHXW"
      },
      "source": [
        "'fr' in liste_langue(df.loc[23,'sms'])"
      ],
      "execution_count": null,
      "outputs": []
    },
    {
      "cell_type": "code",
      "metadata": {
        "scrolled": true,
        "id": "ZfrnAi46mHXW"
      },
      "source": [
        "detect_langs(df.loc[99,'sms'])"
      ],
      "execution_count": null,
      "outputs": []
    },
    {
      "cell_type": "code",
      "metadata": {
        "id": "lxTusri-mHXX"
      },
      "source": [
        "def catch_detectlangs(texte):\n",
        "    try:\n",
        "        l = detect_langs(texte)\n",
        "    except:\n",
        "        l = []\n",
        "        \n",
        "    return l"
      ],
      "execution_count": null,
      "outputs": []
    },
    {
      "cell_type": "code",
      "metadata": {
        "id": "AFbu6v63mHXX"
      },
      "source": [
        "catch_detectlangs(df.loc[100,'sms'])"
      ],
      "execution_count": null,
      "outputs": []
    },
    {
      "cell_type": "code",
      "metadata": {
        "id": "6cHXKoylmHXX"
      },
      "source": [
        "'fr' in liste_langue(df.loc[1,'sms'])"
      ],
      "execution_count": null,
      "outputs": []
    },
    {
      "cell_type": "code",
      "metadata": {
        "id": "RVG1AP_ymHXX"
      },
      "source": [
        "for i in range(len(df)):\n",
        "    if('fr' in liste_langue(df.loc[i,'sms'])):\n",
        "       df.loc[i,'langue'] = 'fr'\n",
        "    else:\n",
        "        try:\n",
        "            df.loc[i,'langue'] = detect(df.loc[i,'sms'])\n",
        "        except:\n",
        "            df.loc[i,'langue'] = None"
      ],
      "execution_count": null,
      "outputs": []
    },
    {
      "cell_type": "code",
      "metadata": {
        "id": "PhcUGCsvmHXY"
      },
      "source": [
        "df.loc[df['langue'] != 'fr'].head()"
      ],
      "execution_count": null,
      "outputs": []
    },
    {
      "cell_type": "code",
      "metadata": {
        "id": "VQiYhigimHXY"
      },
      "source": [
        "df.loc[125,:]"
      ],
      "execution_count": null,
      "outputs": []
    }
  ]
}