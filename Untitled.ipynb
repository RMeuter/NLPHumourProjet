{
 "cells": [
  {
   "cell_type": "code",
   "execution_count": 4,
   "metadata": {},
   "outputs": [],
   "source": [
    "import pandas as pd\n",
    "import numpy as np\n",
    "import matplotlib.pyplot as plt\n",
    "from langdetect import *"
   ]
  },
  {
   "cell_type": "code",
   "execution_count": 5,
   "metadata": {
    "collapsed": true
   },
   "outputs": [
    {
     "name": "stderr",
     "output_type": "stream",
     "text": [
      "Downloading https://raw.githubusercontent.com/stanfordnlp/stanza-resources/master/resources_1.2.0.json: 128kB [00:00, 18.3MB/s]                    \n",
      "2021-02-24 13:41:04 INFO: Downloading default packages for language: fr (French)...\n",
      "2021-02-24 13:41:05 INFO: File exists: C:\\Users\\jchik\\stanza_resources\\fr\\default.zip.\n",
      "2021-02-24 13:41:08 INFO: Finished downloading models and saved to C:\\Users\\jchik\\stanza_resources.\n",
      "2021-02-24 13:41:08 INFO: Loading these models for language: fr (French):\n",
      "=======================\n",
      "| Processor | Package |\n",
      "-----------------------\n",
      "| tokenize  | gsd     |\n",
      "| mwt       | gsd     |\n",
      "| pos       | gsd     |\n",
      "| lemma     | gsd     |\n",
      "| depparse  | gsd     |\n",
      "| ner       | wikiner |\n",
      "=======================\n",
      "\n",
      "2021-02-24 13:41:08 INFO: Use device: cpu\n",
      "2021-02-24 13:41:08 INFO: Loading: tokenize\n",
      "2021-02-24 13:41:08 INFO: Loading: mwt\n",
      "2021-02-24 13:41:08 INFO: Loading: pos\n",
      "2021-02-24 13:41:09 INFO: Loading: lemma\n",
      "2021-02-24 13:41:09 INFO: Loading: depparse\n",
      "2021-02-24 13:41:09 INFO: Loading: ner\n",
      "2021-02-24 13:41:10 INFO: Done loading processors!\n"
     ]
    }
   ],
   "source": [
    "import stanza\n",
    "stanza.download('fr') \n",
    "nlp = stanza.Pipeline('fr')"
   ]
  },
  {
   "cell_type": "code",
   "execution_count": 7,
   "metadata": {},
   "outputs": [],
   "source": [
    "df = pd.read_csv('data_sms.csv')\n",
    "del df['Unnamed: 3']\n",
    "df = df.rename(columns ={\"SMS_ANON\": \"sms\"})"
   ]
  },
  {
   "cell_type": "code",
   "execution_count": 8,
   "metadata": {},
   "outputs": [
    {
     "data": {
      "text/html": [
       "<div>\n",
       "<style scoped>\n",
       "    .dataframe tbody tr th:only-of-type {\n",
       "        vertical-align: middle;\n",
       "    }\n",
       "\n",
       "    .dataframe tbody tr th {\n",
       "        vertical-align: top;\n",
       "    }\n",
       "\n",
       "    .dataframe thead th {\n",
       "        text-align: right;\n",
       "    }\n",
       "</style>\n",
       "<table border=\"1\" class=\"dataframe\">\n",
       "  <thead>\n",
       "    <tr style=\"text-align: right;\">\n",
       "      <th></th>\n",
       "      <th>NUM_SMS</th>\n",
       "      <th>DATETIME</th>\n",
       "      <th>ID_NUM_TEL</th>\n",
       "      <th>sms</th>\n",
       "    </tr>\n",
       "  </thead>\n",
       "  <tbody>\n",
       "    <tr>\n",
       "      <th>0</th>\n",
       "      <td>1</td>\n",
       "      <td>15 sept. 2011 07:28:55</td>\n",
       "      <td>477</td>\n",
       "      <td>Hey ca va?\\nAlors cette rentree?\\nVa falloir s...</td>\n",
       "    </tr>\n",
       "    <tr>\n",
       "      <th>1</th>\n",
       "      <td>2</td>\n",
       "      <td>15 sept. 2011 08:02:08</td>\n",
       "      <td>477</td>\n",
       "      <td>Ok super merci! Oui j'y comprends rien du tout...</td>\n",
       "    </tr>\n",
       "    <tr>\n",
       "      <th>2</th>\n",
       "      <td>3</td>\n",
       "      <td>15 sept. 2011 08:03:01</td>\n",
       "      <td>477</td>\n",
       "      <td>Coucou !\\nC'est quand la feria de Nimes? \\nJ's...</td>\n",
       "    </tr>\n",
       "    <tr>\n",
       "      <th>3</th>\n",
       "      <td>4</td>\n",
       "      <td>15 sept. 2011 08:03:35</td>\n",
       "      <td>477</td>\n",
       "      <td>Coucou :)\\nOui ca c'est bien passe!\\nAlors je ...</td>\n",
       "    </tr>\n",
       "    <tr>\n",
       "      <th>4</th>\n",
       "      <td>5</td>\n",
       "      <td>15 sept. 2011 09:05:28</td>\n",
       "      <td>477</td>\n",
       "      <td>On peut se rejoindre quelque part? Tu as cours...</td>\n",
       "    </tr>\n",
       "  </tbody>\n",
       "</table>\n",
       "</div>"
      ],
      "text/plain": [
       "   NUM_SMS                DATETIME  ID_NUM_TEL  \\\n",
       "0        1  15 sept. 2011 07:28:55         477   \n",
       "1        2  15 sept. 2011 08:02:08         477   \n",
       "2        3  15 sept. 2011 08:03:01         477   \n",
       "3        4  15 sept. 2011 08:03:35         477   \n",
       "4        5  15 sept. 2011 09:05:28         477   \n",
       "\n",
       "                                                 sms  \n",
       "0  Hey ca va?\\nAlors cette rentree?\\nVa falloir s...  \n",
       "1  Ok super merci! Oui j'y comprends rien du tout...  \n",
       "2  Coucou !\\nC'est quand la feria de Nimes? \\nJ's...  \n",
       "3  Coucou :)\\nOui ca c'est bien passe!\\nAlors je ...  \n",
       "4  On peut se rejoindre quelque part? Tu as cours...  "
      ]
     },
     "execution_count": 8,
     "metadata": {},
     "output_type": "execute_result"
    }
   ],
   "source": [
    "df.head()"
   ]
  },
  {
   "cell_type": "markdown",
   "metadata": {},
   "source": [
    "Certains sms sont écrit en anglais, il faut donc les supprimer du corpus pour pouvoir traiter les données."
   ]
  },
  {
   "cell_type": "code",
   "execution_count": 9,
   "metadata": {},
   "outputs": [
    {
     "data": {
      "text/plain": [
       "'fr'"
      ]
     },
     "execution_count": 9,
     "metadata": {},
     "output_type": "execute_result"
    }
   ],
   "source": [
    "detect(df.sms[0])"
   ]
  },
  {
   "cell_type": "code",
   "execution_count": 10,
   "metadata": {},
   "outputs": [
    {
     "data": {
      "text/html": [
       "<div>\n",
       "<style scoped>\n",
       "    .dataframe tbody tr th:only-of-type {\n",
       "        vertical-align: middle;\n",
       "    }\n",
       "\n",
       "    .dataframe tbody tr th {\n",
       "        vertical-align: top;\n",
       "    }\n",
       "\n",
       "    .dataframe thead th {\n",
       "        text-align: right;\n",
       "    }\n",
       "</style>\n",
       "<table border=\"1\" class=\"dataframe\">\n",
       "  <thead>\n",
       "    <tr style=\"text-align: right;\">\n",
       "      <th></th>\n",
       "      <th>NUM_SMS</th>\n",
       "      <th>DATETIME</th>\n",
       "      <th>ID_NUM_TEL</th>\n",
       "      <th>sms</th>\n",
       "      <th>langue</th>\n",
       "    </tr>\n",
       "  </thead>\n",
       "  <tbody>\n",
       "    <tr>\n",
       "      <th>0</th>\n",
       "      <td>1</td>\n",
       "      <td>15 sept. 2011 07:28:55</td>\n",
       "      <td>477</td>\n",
       "      <td>Hey ca va?\\nAlors cette rentree?\\nVa falloir s...</td>\n",
       "      <td>None</td>\n",
       "    </tr>\n",
       "    <tr>\n",
       "      <th>1</th>\n",
       "      <td>2</td>\n",
       "      <td>15 sept. 2011 08:02:08</td>\n",
       "      <td>477</td>\n",
       "      <td>Ok super merci! Oui j'y comprends rien du tout...</td>\n",
       "      <td>None</td>\n",
       "    </tr>\n",
       "    <tr>\n",
       "      <th>2</th>\n",
       "      <td>3</td>\n",
       "      <td>15 sept. 2011 08:03:01</td>\n",
       "      <td>477</td>\n",
       "      <td>Coucou !\\nC'est quand la feria de Nimes? \\nJ's...</td>\n",
       "      <td>None</td>\n",
       "    </tr>\n",
       "    <tr>\n",
       "      <th>3</th>\n",
       "      <td>4</td>\n",
       "      <td>15 sept. 2011 08:03:35</td>\n",
       "      <td>477</td>\n",
       "      <td>Coucou :)\\nOui ca c'est bien passe!\\nAlors je ...</td>\n",
       "      <td>None</td>\n",
       "    </tr>\n",
       "    <tr>\n",
       "      <th>4</th>\n",
       "      <td>5</td>\n",
       "      <td>15 sept. 2011 09:05:28</td>\n",
       "      <td>477</td>\n",
       "      <td>On peut se rejoindre quelque part? Tu as cours...</td>\n",
       "      <td>None</td>\n",
       "    </tr>\n",
       "  </tbody>\n",
       "</table>\n",
       "</div>"
      ],
      "text/plain": [
       "   NUM_SMS                DATETIME  ID_NUM_TEL  \\\n",
       "0        1  15 sept. 2011 07:28:55         477   \n",
       "1        2  15 sept. 2011 08:02:08         477   \n",
       "2        3  15 sept. 2011 08:03:01         477   \n",
       "3        4  15 sept. 2011 08:03:35         477   \n",
       "4        5  15 sept. 2011 09:05:28         477   \n",
       "\n",
       "                                                 sms langue  \n",
       "0  Hey ca va?\\nAlors cette rentree?\\nVa falloir s...   None  \n",
       "1  Ok super merci! Oui j'y comprends rien du tout...   None  \n",
       "2  Coucou !\\nC'est quand la feria de Nimes? \\nJ's...   None  \n",
       "3  Coucou :)\\nOui ca c'est bien passe!\\nAlors je ...   None  \n",
       "4  On peut se rejoindre quelque part? Tu as cours...   None  "
      ]
     },
     "execution_count": 10,
     "metadata": {},
     "output_type": "execute_result"
    }
   ],
   "source": [
    "df['langue'] = None\n",
    "df.head()"
   ]
  },
  {
   "cell_type": "code",
   "execution_count": 73,
   "metadata": {},
   "outputs": [
    {
     "data": {
      "text/html": [
       "<div>\n",
       "<style scoped>\n",
       "    .dataframe tbody tr th:only-of-type {\n",
       "        vertical-align: middle;\n",
       "    }\n",
       "\n",
       "    .dataframe tbody tr th {\n",
       "        vertical-align: top;\n",
       "    }\n",
       "\n",
       "    .dataframe thead th {\n",
       "        text-align: right;\n",
       "    }\n",
       "</style>\n",
       "<table border=\"1\" class=\"dataframe\">\n",
       "  <thead>\n",
       "    <tr style=\"text-align: right;\">\n",
       "      <th></th>\n",
       "      <th>NUM_SMS</th>\n",
       "      <th>DATETIME</th>\n",
       "      <th>ID_NUM_TEL</th>\n",
       "      <th>sms</th>\n",
       "      <th>langue</th>\n",
       "    </tr>\n",
       "  </thead>\n",
       "  <tbody>\n",
       "    <tr>\n",
       "      <th>0</th>\n",
       "      <td>1</td>\n",
       "      <td>15 sept. 2011 07:28:55</td>\n",
       "      <td>477</td>\n",
       "      <td>Hey ca va?\\nAlors cette rentree?\\nVa falloir s...</td>\n",
       "      <td>fr</td>\n",
       "    </tr>\n",
       "    <tr>\n",
       "      <th>1</th>\n",
       "      <td>2</td>\n",
       "      <td>15 sept. 2011 08:02:08</td>\n",
       "      <td>477</td>\n",
       "      <td>Ok super merci! Oui j'y comprends rien du tout...</td>\n",
       "      <td>fr</td>\n",
       "    </tr>\n",
       "    <tr>\n",
       "      <th>2</th>\n",
       "      <td>3</td>\n",
       "      <td>15 sept. 2011 08:03:01</td>\n",
       "      <td>477</td>\n",
       "      <td>Coucou !\\nC'est quand la feria de Nimes? \\nJ's...</td>\n",
       "      <td>fr</td>\n",
       "    </tr>\n",
       "    <tr>\n",
       "      <th>3</th>\n",
       "      <td>4</td>\n",
       "      <td>15 sept. 2011 08:03:35</td>\n",
       "      <td>477</td>\n",
       "      <td>Coucou :)\\nOui ca c'est bien passe!\\nAlors je ...</td>\n",
       "      <td>fr</td>\n",
       "    </tr>\n",
       "    <tr>\n",
       "      <th>4</th>\n",
       "      <td>5</td>\n",
       "      <td>15 sept. 2011 09:05:28</td>\n",
       "      <td>477</td>\n",
       "      <td>On peut se rejoindre quelque part? Tu as cours...</td>\n",
       "      <td>fr</td>\n",
       "    </tr>\n",
       "  </tbody>\n",
       "</table>\n",
       "</div>"
      ],
      "text/plain": [
       "   NUM_SMS                DATETIME  ID_NUM_TEL  \\\n",
       "0        1  15 sept. 2011 07:28:55         477   \n",
       "1        2  15 sept. 2011 08:02:08         477   \n",
       "2        3  15 sept. 2011 08:03:01         477   \n",
       "3        4  15 sept. 2011 08:03:35         477   \n",
       "4        5  15 sept. 2011 09:05:28         477   \n",
       "\n",
       "                                                 sms langue  \n",
       "0  Hey ca va?\\nAlors cette rentree?\\nVa falloir s...     fr  \n",
       "1  Ok super merci! Oui j'y comprends rien du tout...     fr  \n",
       "2  Coucou !\\nC'est quand la feria de Nimes? \\nJ's...     fr  \n",
       "3  Coucou :)\\nOui ca c'est bien passe!\\nAlors je ...     fr  \n",
       "4  On peut se rejoindre quelque part? Tu as cours...     fr  "
      ]
     },
     "execution_count": 73,
     "metadata": {},
     "output_type": "execute_result"
    }
   ],
   "source": [
    "for i in range(len(df)):\n",
    "    try:\n",
    "        df.loc[i,'langue'] = detect(df.loc[i,'sms'])\n",
    "    except:\n",
    "        df.loc[i,'langue'] = None\n",
    "    \n",
    "df.head()"
   ]
  },
  {
   "cell_type": "code",
   "execution_count": 79,
   "metadata": {},
   "outputs": [
    {
     "data": {
      "text/plain": [
       "NUM_SMS         0\n",
       "DATETIME        0\n",
       "ID_NUM_TEL      0\n",
       "sms             1\n",
       "langue        410\n",
       "dtype: int64"
      ]
     },
     "execution_count": 79,
     "metadata": {},
     "output_type": "execute_result"
    }
   ],
   "source": [
    "df.isnull().sum()"
   ]
  },
  {
   "cell_type": "code",
   "execution_count": 92,
   "metadata": {
    "scrolled": false
   },
   "outputs": [
    {
     "data": {
      "text/html": [
       "<div>\n",
       "<style scoped>\n",
       "    .dataframe tbody tr th:only-of-type {\n",
       "        vertical-align: middle;\n",
       "    }\n",
       "\n",
       "    .dataframe tbody tr th {\n",
       "        vertical-align: top;\n",
       "    }\n",
       "\n",
       "    .dataframe thead th {\n",
       "        text-align: right;\n",
       "    }\n",
       "</style>\n",
       "<table border=\"1\" class=\"dataframe\">\n",
       "  <thead>\n",
       "    <tr style=\"text-align: right;\">\n",
       "      <th></th>\n",
       "      <th>NUM_SMS</th>\n",
       "      <th>DATETIME</th>\n",
       "      <th>ID_NUM_TEL</th>\n",
       "      <th>sms</th>\n",
       "      <th>langue</th>\n",
       "    </tr>\n",
       "  </thead>\n",
       "  <tbody>\n",
       "    <tr>\n",
       "      <th>23</th>\n",
       "      <td>24</td>\n",
       "      <td>15 sept. 2011 10:10:44</td>\n",
       "      <td>151</td>\n",
       "      <td>Vasi lache moi :o Aller plus tard je taime gro...</td>\n",
       "      <td>it</td>\n",
       "    </tr>\n",
       "    <tr>\n",
       "      <th>27</th>\n",
       "      <td>28</td>\n",
       "      <td>15 sept. 2011 10:56:48</td>\n",
       "      <td>88</td>\n",
       "      <td>La j'ai fini je regarde le film</td>\n",
       "      <td>sl</td>\n",
       "    </tr>\n",
       "    <tr>\n",
       "      <th>32</th>\n",
       "      <td>33</td>\n",
       "      <td>15 sept. 2011 10:59:17</td>\n",
       "      <td>136</td>\n",
       "      <td>&lt;TEL_10&gt; texto &lt;PRE_6&gt; vite vite pour le casti...</td>\n",
       "      <td>en</td>\n",
       "    </tr>\n",
       "    <tr>\n",
       "      <th>38</th>\n",
       "      <td>39</td>\n",
       "      <td>15 sept. 2011 11:01:29</td>\n",
       "      <td>353</td>\n",
       "      <td>Coucou! ça va? Balade vers 5h?</td>\n",
       "      <td>ca</td>\n",
       "    </tr>\n",
       "    <tr>\n",
       "      <th>44</th>\n",
       "      <td>45</td>\n",
       "      <td>15 sept. 2011 11:03:40</td>\n",
       "      <td>136</td>\n",
       "      <td>Ok ca marche, il va avoir quel age ? :)</td>\n",
       "      <td>it</td>\n",
       "    </tr>\n",
       "    <tr>\n",
       "      <th>...</th>\n",
       "      <td>...</td>\n",
       "      <td>...</td>\n",
       "      <td>...</td>\n",
       "      <td>...</td>\n",
       "      <td>...</td>\n",
       "    </tr>\n",
       "    <tr>\n",
       "      <th>88481</th>\n",
       "      <td>93039</td>\n",
       "      <td>15 déc. 2011 22:46:10</td>\n",
       "      <td>349</td>\n",
       "      <td>c'est trop cool la tempête!\\npk bof?</td>\n",
       "      <td>en</td>\n",
       "    </tr>\n",
       "    <tr>\n",
       "      <th>88490</th>\n",
       "      <td>93048</td>\n",
       "      <td>15 déc. 2011 22:59:38</td>\n",
       "      <td>508</td>\n",
       "      <td>Mdr les gros cas sos x)</td>\n",
       "      <td>es</td>\n",
       "    </tr>\n",
       "    <tr>\n",
       "      <th>88503</th>\n",
       "      <td>93064</td>\n",
       "      <td>15 déc. 2011 23:11:00</td>\n",
       "      <td>508</td>\n",
       "      <td>Moi je dors lol</td>\n",
       "      <td>sl</td>\n",
       "    </tr>\n",
       "    <tr>\n",
       "      <th>88506</th>\n",
       "      <td>93067</td>\n",
       "      <td>15 déc. 2011 23:14:13</td>\n",
       "      <td>508</td>\n",
       "      <td>Merci good night ^^</td>\n",
       "      <td>cy</td>\n",
       "    </tr>\n",
       "    <tr>\n",
       "      <th>88512</th>\n",
       "      <td>93074</td>\n",
       "      <td>15 déc. 2011 23:20:44</td>\n",
       "      <td>194</td>\n",
       "      <td>Reveil!!!!</td>\n",
       "      <td>no</td>\n",
       "    </tr>\n",
       "  </tbody>\n",
       "</table>\n",
       "<p>19523 rows × 5 columns</p>\n",
       "</div>"
      ],
      "text/plain": [
       "       NUM_SMS                DATETIME  ID_NUM_TEL  \\\n",
       "23          24  15 sept. 2011 10:10:44         151   \n",
       "27          28  15 sept. 2011 10:56:48          88   \n",
       "32          33  15 sept. 2011 10:59:17         136   \n",
       "38          39  15 sept. 2011 11:01:29         353   \n",
       "44          45  15 sept. 2011 11:03:40         136   \n",
       "...        ...                     ...         ...   \n",
       "88481    93039   15 déc. 2011 22:46:10         349   \n",
       "88490    93048   15 déc. 2011 22:59:38         508   \n",
       "88503    93064   15 déc. 2011 23:11:00         508   \n",
       "88506    93067   15 déc. 2011 23:14:13         508   \n",
       "88512    93074   15 déc. 2011 23:20:44         194   \n",
       "\n",
       "                                                     sms langue  \n",
       "23     Vasi lache moi :o Aller plus tard je taime gro...     it  \n",
       "27                       La j'ai fini je regarde le film     sl  \n",
       "32     <TEL_10> texto <PRE_6> vite vite pour le casti...     en  \n",
       "38                        Coucou! ça va? Balade vers 5h?     ca  \n",
       "44               Ok ca marche, il va avoir quel age ? :)     it  \n",
       "...                                                  ...    ...  \n",
       "88481               c'est trop cool la tempête!\\npk bof?     en  \n",
       "88490                            Mdr les gros cas sos x)     es  \n",
       "88503                                    Moi je dors lol     sl  \n",
       "88506                                Merci good night ^^     cy  \n",
       "88512                                         Reveil!!!!     no  \n",
       "\n",
       "[19523 rows x 5 columns]"
      ]
     },
     "execution_count": 92,
     "metadata": {},
     "output_type": "execute_result"
    }
   ],
   "source": [
    "df.loc[df['langue'] != 'fr']"
   ]
  },
  {
   "cell_type": "markdown",
   "metadata": {},
   "source": [
    "On remarque que beaucoups de texte fr sont annotés en tant que langue différente.\n",
    "Dans le cadre d'améliorer les résultats des qu'un bout de texte est détecté en Fr alors le texte est annoté FR "
   ]
  },
  {
   "cell_type": "code",
   "execution_count": 137,
   "metadata": {},
   "outputs": [
    {
     "data": {
      "text/plain": [
       "[lt:0.42857166274561276, fr:0.42856939425816243, hr:0.1428574480255828]"
      ]
     },
     "execution_count": 137,
     "metadata": {},
     "output_type": "execute_result"
    }
   ],
   "source": [
    "detect_langs(df.loc[23,'sms'])"
   ]
  },
  {
   "cell_type": "code",
   "execution_count": 138,
   "metadata": {},
   "outputs": [
    {
     "name": "stdout",
     "output_type": "stream",
     "text": [
      "lt\n",
      "fr\n",
      "hr\n"
     ]
    }
   ],
   "source": [
    "for n in range(len(detect_langs(df.loc[23,'sms']))):\n",
    "    print(detect_langs(df.loc[23,'sms'])[n].lang)\n",
    "#detect_langs(df.loc[23,'sms'])[0].lang"
   ]
  },
  {
   "cell_type": "code",
   "execution_count": 11,
   "metadata": {},
   "outputs": [],
   "source": [
    "def liste_langue(langs):\n",
    "    l = []\n",
    "    for n in catch_detectlangs(langs):\n",
    "        l.append(n.lang)\n",
    "    return l"
   ]
  },
  {
   "cell_type": "code",
   "execution_count": 141,
   "metadata": {},
   "outputs": [
    {
     "data": {
      "text/plain": [
       "['lt', 'fr', 'hr']"
      ]
     },
     "execution_count": 141,
     "metadata": {},
     "output_type": "execute_result"
    }
   ],
   "source": [
    "liste_langue(df.loc[23,'sms'])"
   ]
  },
  {
   "cell_type": "code",
   "execution_count": 144,
   "metadata": {},
   "outputs": [
    {
     "data": {
      "text/plain": [
       "True"
      ]
     },
     "execution_count": 144,
     "metadata": {},
     "output_type": "execute_result"
    }
   ],
   "source": [
    "'fr' in liste_langue(df.loc[23,'sms'])"
   ]
  },
  {
   "cell_type": "code",
   "execution_count": 146,
   "metadata": {
    "scrolled": true
   },
   "outputs": [
    {
     "ename": "LangDetectException",
     "evalue": "No features in text.",
     "output_type": "error",
     "traceback": [
      "\u001b[1;31m---------------------------------------------------------------------------\u001b[0m",
      "\u001b[1;31mLangDetectException\u001b[0m                       Traceback (most recent call last)",
      "\u001b[1;32m<ipython-input-146-784fd517e38d>\u001b[0m in \u001b[0;36m<module>\u001b[1;34m\u001b[0m\n\u001b[1;32m----> 1\u001b[1;33m \u001b[0mdetect_langs\u001b[0m\u001b[1;33m(\u001b[0m\u001b[0mdf\u001b[0m\u001b[1;33m.\u001b[0m\u001b[0mloc\u001b[0m\u001b[1;33m[\u001b[0m\u001b[1;36m99\u001b[0m\u001b[1;33m,\u001b[0m\u001b[1;34m'sms'\u001b[0m\u001b[1;33m]\u001b[0m\u001b[1;33m)\u001b[0m\u001b[1;33m\u001b[0m\u001b[1;33m\u001b[0m\u001b[0m\n\u001b[0m",
      "\u001b[1;32m~\\anaconda3\\lib\\site-packages\\langdetect\\detector_factory.py\u001b[0m in \u001b[0;36mdetect_langs\u001b[1;34m(text)\u001b[0m\n\u001b[0;32m    135\u001b[0m     \u001b[0mdetector\u001b[0m \u001b[1;33m=\u001b[0m \u001b[0m_factory\u001b[0m\u001b[1;33m.\u001b[0m\u001b[0mcreate\u001b[0m\u001b[1;33m(\u001b[0m\u001b[1;33m)\u001b[0m\u001b[1;33m\u001b[0m\u001b[1;33m\u001b[0m\u001b[0m\n\u001b[0;32m    136\u001b[0m     \u001b[0mdetector\u001b[0m\u001b[1;33m.\u001b[0m\u001b[0mappend\u001b[0m\u001b[1;33m(\u001b[0m\u001b[0mtext\u001b[0m\u001b[1;33m)\u001b[0m\u001b[1;33m\u001b[0m\u001b[1;33m\u001b[0m\u001b[0m\n\u001b[1;32m--> 137\u001b[1;33m     \u001b[1;32mreturn\u001b[0m \u001b[0mdetector\u001b[0m\u001b[1;33m.\u001b[0m\u001b[0mget_probabilities\u001b[0m\u001b[1;33m(\u001b[0m\u001b[1;33m)\u001b[0m\u001b[1;33m\u001b[0m\u001b[1;33m\u001b[0m\u001b[0m\n\u001b[0m",
      "\u001b[1;32m~\\anaconda3\\lib\\site-packages\\langdetect\\detector.py\u001b[0m in \u001b[0;36mget_probabilities\u001b[1;34m(self)\u001b[0m\n\u001b[0;32m    141\u001b[0m     \u001b[1;32mdef\u001b[0m \u001b[0mget_probabilities\u001b[0m\u001b[1;33m(\u001b[0m\u001b[0mself\u001b[0m\u001b[1;33m)\u001b[0m\u001b[1;33m:\u001b[0m\u001b[1;33m\u001b[0m\u001b[1;33m\u001b[0m\u001b[0m\n\u001b[0;32m    142\u001b[0m         \u001b[1;32mif\u001b[0m \u001b[0mself\u001b[0m\u001b[1;33m.\u001b[0m\u001b[0mlangprob\u001b[0m \u001b[1;32mis\u001b[0m \u001b[1;32mNone\u001b[0m\u001b[1;33m:\u001b[0m\u001b[1;33m\u001b[0m\u001b[1;33m\u001b[0m\u001b[0m\n\u001b[1;32m--> 143\u001b[1;33m             \u001b[0mself\u001b[0m\u001b[1;33m.\u001b[0m\u001b[0m_detect_block\u001b[0m\u001b[1;33m(\u001b[0m\u001b[1;33m)\u001b[0m\u001b[1;33m\u001b[0m\u001b[1;33m\u001b[0m\u001b[0m\n\u001b[0m\u001b[0;32m    144\u001b[0m         \u001b[1;32mreturn\u001b[0m \u001b[0mself\u001b[0m\u001b[1;33m.\u001b[0m\u001b[0m_sort_probability\u001b[0m\u001b[1;33m(\u001b[0m\u001b[0mself\u001b[0m\u001b[1;33m.\u001b[0m\u001b[0mlangprob\u001b[0m\u001b[1;33m)\u001b[0m\u001b[1;33m\u001b[0m\u001b[1;33m\u001b[0m\u001b[0m\n\u001b[0;32m    145\u001b[0m \u001b[1;33m\u001b[0m\u001b[0m\n",
      "\u001b[1;32m~\\anaconda3\\lib\\site-packages\\langdetect\\detector.py\u001b[0m in \u001b[0;36m_detect_block\u001b[1;34m(self)\u001b[0m\n\u001b[0;32m    148\u001b[0m         \u001b[0mngrams\u001b[0m \u001b[1;33m=\u001b[0m \u001b[0mself\u001b[0m\u001b[1;33m.\u001b[0m\u001b[0m_extract_ngrams\u001b[0m\u001b[1;33m(\u001b[0m\u001b[1;33m)\u001b[0m\u001b[1;33m\u001b[0m\u001b[1;33m\u001b[0m\u001b[0m\n\u001b[0;32m    149\u001b[0m         \u001b[1;32mif\u001b[0m \u001b[1;32mnot\u001b[0m \u001b[0mngrams\u001b[0m\u001b[1;33m:\u001b[0m\u001b[1;33m\u001b[0m\u001b[1;33m\u001b[0m\u001b[0m\n\u001b[1;32m--> 150\u001b[1;33m             \u001b[1;32mraise\u001b[0m \u001b[0mLangDetectException\u001b[0m\u001b[1;33m(\u001b[0m\u001b[0mErrorCode\u001b[0m\u001b[1;33m.\u001b[0m\u001b[0mCantDetectError\u001b[0m\u001b[1;33m,\u001b[0m \u001b[1;34m'No features in text.'\u001b[0m\u001b[1;33m)\u001b[0m\u001b[1;33m\u001b[0m\u001b[1;33m\u001b[0m\u001b[0m\n\u001b[0m\u001b[0;32m    151\u001b[0m \u001b[1;33m\u001b[0m\u001b[0m\n\u001b[0;32m    152\u001b[0m         \u001b[0mself\u001b[0m\u001b[1;33m.\u001b[0m\u001b[0mlangprob\u001b[0m \u001b[1;33m=\u001b[0m \u001b[1;33m[\u001b[0m\u001b[1;36m0.0\u001b[0m\u001b[1;33m]\u001b[0m \u001b[1;33m*\u001b[0m \u001b[0mlen\u001b[0m\u001b[1;33m(\u001b[0m\u001b[0mself\u001b[0m\u001b[1;33m.\u001b[0m\u001b[0mlanglist\u001b[0m\u001b[1;33m)\u001b[0m\u001b[1;33m\u001b[0m\u001b[1;33m\u001b[0m\u001b[0m\n",
      "\u001b[1;31mLangDetectException\u001b[0m: No features in text."
     ]
    }
   ],
   "source": [
    "detect_langs(df.loc[99,'sms'])"
   ]
  },
  {
   "cell_type": "code",
   "execution_count": 12,
   "metadata": {},
   "outputs": [],
   "source": [
    "def catch_detectlangs(texte):\n",
    "    try:\n",
    "        l = detect_langs(texte)\n",
    "    except:\n",
    "        l = []\n",
    "        \n",
    "    return l"
   ]
  },
  {
   "cell_type": "code",
   "execution_count": 149,
   "metadata": {},
   "outputs": [
    {
     "data": {
      "text/plain": [
       "[fr:0.857137991247146, ca:0.14286147973813532]"
      ]
     },
     "execution_count": 149,
     "metadata": {},
     "output_type": "execute_result"
    }
   ],
   "source": [
    "catch_detectlangs(df.loc[100,'sms'])"
   ]
  },
  {
   "cell_type": "code",
   "execution_count": 156,
   "metadata": {},
   "outputs": [
    {
     "data": {
      "text/plain": [
       "True"
      ]
     },
     "execution_count": 156,
     "metadata": {},
     "output_type": "execute_result"
    }
   ],
   "source": [
    "'fr' in liste_langue(df.loc[1,'sms'])"
   ]
  },
  {
   "cell_type": "code",
   "execution_count": 13,
   "metadata": {},
   "outputs": [],
   "source": [
    "for i in range(len(df)):\n",
    "    if('fr' in liste_langue(df.loc[i,'sms'])):\n",
    "       df.loc[i,'langue'] = 'fr'\n",
    "    else:\n",
    "        try:\n",
    "            df.loc[i,'langue'] = detect(df.loc[i,'sms'])\n",
    "        except:\n",
    "            df.loc[i,'langue'] = None"
   ]
  },
  {
   "cell_type": "code",
   "execution_count": 14,
   "metadata": {},
   "outputs": [
    {
     "data": {
      "text/html": [
       "<div>\n",
       "<style scoped>\n",
       "    .dataframe tbody tr th:only-of-type {\n",
       "        vertical-align: middle;\n",
       "    }\n",
       "\n",
       "    .dataframe tbody tr th {\n",
       "        vertical-align: top;\n",
       "    }\n",
       "\n",
       "    .dataframe thead th {\n",
       "        text-align: right;\n",
       "    }\n",
       "</style>\n",
       "<table border=\"1\" class=\"dataframe\">\n",
       "  <thead>\n",
       "    <tr style=\"text-align: right;\">\n",
       "      <th></th>\n",
       "      <th>NUM_SMS</th>\n",
       "      <th>DATETIME</th>\n",
       "      <th>ID_NUM_TEL</th>\n",
       "      <th>sms</th>\n",
       "      <th>langue</th>\n",
       "    </tr>\n",
       "  </thead>\n",
       "  <tbody>\n",
       "    <tr>\n",
       "      <th>27</th>\n",
       "      <td>28</td>\n",
       "      <td>15 sept. 2011 10:56:48</td>\n",
       "      <td>88</td>\n",
       "      <td>La j'ai fini je regarde le film</td>\n",
       "      <td>sl</td>\n",
       "    </tr>\n",
       "    <tr>\n",
       "      <th>38</th>\n",
       "      <td>39</td>\n",
       "      <td>15 sept. 2011 11:01:29</td>\n",
       "      <td>353</td>\n",
       "      <td>Coucou! ça va? Balade vers 5h?</td>\n",
       "      <td>ca</td>\n",
       "    </tr>\n",
       "    <tr>\n",
       "      <th>44</th>\n",
       "      <td>45</td>\n",
       "      <td>15 sept. 2011 11:03:40</td>\n",
       "      <td>136</td>\n",
       "      <td>Ok ca marche, il va avoir quel age ? :)</td>\n",
       "      <td>it</td>\n",
       "    </tr>\n",
       "    <tr>\n",
       "      <th>50</th>\n",
       "      <td>51</td>\n",
       "      <td>15 sept. 2011 12:04:16</td>\n",
       "      <td>254</td>\n",
       "      <td>Je t'aiiiime...</td>\n",
       "      <td>et</td>\n",
       "    </tr>\n",
       "    <tr>\n",
       "      <th>55</th>\n",
       "      <td>57</td>\n",
       "      <td>15 sept. 2011 12:30:14</td>\n",
       "      <td>228</td>\n",
       "      <td>Ok pa de pblm ma belle !</td>\n",
       "      <td>da</td>\n",
       "    </tr>\n",
       "  </tbody>\n",
       "</table>\n",
       "</div>"
      ],
      "text/plain": [
       "    NUM_SMS                DATETIME  ID_NUM_TEL  \\\n",
       "27       28  15 sept. 2011 10:56:48          88   \n",
       "38       39  15 sept. 2011 11:01:29         353   \n",
       "44       45  15 sept. 2011 11:03:40         136   \n",
       "50       51  15 sept. 2011 12:04:16         254   \n",
       "55       57  15 sept. 2011 12:30:14         228   \n",
       "\n",
       "                                        sms langue  \n",
       "27          La j'ai fini je regarde le film     sl  \n",
       "38           Coucou! ça va? Balade vers 5h?     ca  \n",
       "44  Ok ca marche, il va avoir quel age ? :)     it  \n",
       "50                          Je t'aiiiime...     et  \n",
       "55                 Ok pa de pblm ma belle !     da  "
      ]
     },
     "execution_count": 14,
     "metadata": {},
     "output_type": "execute_result"
    }
   ],
   "source": [
    "df.loc[df['langue'] != 'fr'].head()"
   ]
  },
  {
   "cell_type": "code",
   "execution_count": 15,
   "metadata": {},
   "outputs": [
    {
     "data": {
      "text/plain": [
       "NUM_SMS                                                     128\n",
       "DATETIME                                 15 sept. 2011 16:09:45\n",
       "ID_NUM_TEL                                                  197\n",
       "sms           Gut danke! Aber ich bin ein bischen műde, weil...\n",
       "langue                                                       fr\n",
       "Name: 125, dtype: object"
      ]
     },
     "execution_count": 15,
     "metadata": {},
     "output_type": "execute_result"
    }
   ],
   "source": [
    "df.loc[125,:]"
   ]
  }
 ],
 "metadata": {
  "kernelspec": {
   "display_name": "Python 3",
   "language": "python",
   "name": "python3"
  },
  "language_info": {
   "codemirror_mode": {
    "name": "ipython",
    "version": 3
   },
   "file_extension": ".py",
   "mimetype": "text/x-python",
   "name": "python",
   "nbconvert_exporter": "python",
   "pygments_lexer": "ipython3",
   "version": "3.8.5"
  }
 },
 "nbformat": 4,
 "nbformat_minor": 4
}
